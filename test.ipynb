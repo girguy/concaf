{
 "cells": [
  {
   "cell_type": "code",
   "execution_count": 1,
   "metadata": {},
   "outputs": [],
   "source": [
    "import pandas as pd\n",
    "import requests\n",
    "from bs4 import BeautifulSoup\n",
    "import re"
   ]
  },
  {
   "cell_type": "code",
   "execution_count": 2,
   "metadata": {},
   "outputs": [],
   "source": [
    "transfertmarkt_teams_id = {\n",
    "    'Congo': '3854',\n",
    "    'Senegal': '3499',\n",
    "    'Mauritania': '14238',\n",
    "    'Maroc': '3575',\n",
    "    'Tanzania': '14666',\n",
    "    'Burkina Faso': '5872', \n",
    "    'Guinea': '3856',\n",
    "    'Gambia': '6186', \n",
    "    'Mali': '3674', \n",
    "    'Namibia': '3573', \n",
    "    'Algeria': '3614',\n",
    "    'Nigeria': '3444', \n",
    "    'Angola': '3585', \n",
    "    'Egypt': '3672',\n",
    "    'Tunisie': '3670',\n",
    "    'Equatorial Guinea': '13485',\n",
    "    'Ghana': '3441',\n",
    "    'Guinea-Bissau': '3701',\n",
    "    'Mozambique': '5129',\n",
    "    'Cameroon': '3434',\n",
    "    'South Africa': '3806',\n",
    "    'Ivory Coaste': '3591',\n",
    "    'Zambia': '3703',\n",
    "    'Cape Verde': '4311',\n",
    "    'Ivory Coast': '3591'\n",
    "}"
   ]
  },
  {
   "cell_type": "code",
   "execution_count": 17,
   "metadata": {},
   "outputs": [],
   "source": [
    "def download_team_picture(pageSoup, folder_path=\"team_pictures\"):\n",
    "\n",
    "    # Find the image tag\n",
    "    image_tag = pageSoup.find('img', class_='flaggenrahmen')\n",
    "    if not image_tag:\n",
    "        print(\"Image not found\")\n",
    "        return\n",
    "\n",
    "    # Get the image URL\n",
    "    img_url = image_tag['src']\n",
    "\n",
    "    # Get the image name (You might want to change this based on your requirements)\n",
    "    img_name = img_url.split('/')[-1]\n",
    "\n",
    "    # Ensure the folder exists\n",
    "    if not os.path.exists(folder_path):\n",
    "        os.makedirs(folder_path)\n",
    "\n",
    "    # Download and save the image\n",
    "    response = requests.get(img_url)\n",
    "    if response.status_code == 200:\n",
    "        with open(os.path.join(folder_path, img_name), 'wb') as file:\n",
    "            file.write(response.content)\n",
    "        print(f\"Image saved as {img_name} in folder {folder_path}\")\n",
    "    else:\n",
    "        print(f\"Failed to download image. Status code: {response.status_code}\")\n",
    "\n",
    "def extract_players_information(pageSoup):\n",
    "    # Initialize an empty list to store player information\n",
    "    players_info = []\n",
    "\n",
    "    # Iterate through each player entry in the HTML\n",
    "    for row in pageSoup.find_all('tr', {'class': ['even', 'odd']}):\n",
    "        # Extracting each piece of information\n",
    "        shirt_number = row.find('div', class_='rn_nummer').text.strip()\n",
    "        player_link = row.find('a', href=re.compile(r'/profil/spieler/'))\n",
    "        player_id = re.search(r'/profil/spieler/(\\d+)', player_link['href']).group(1)\n",
    "        player_name = player_link.text.strip()\n",
    "        age = row.find_all('td')[3].text.strip()  # Adjust index based on HTML structure\n",
    "        position = row.find_all('td')[4].text.strip()  # Adjust index based on HTML structure\n",
    "        club = row.find('a', href=re.compile(r'/startseite/verein/'))['title']\n",
    "\n",
    "        players_info.append({\n",
    "            'ShirtNumber': shirt_number,\n",
    "            'PlayerID': player_id,\n",
    "            'PlayerName': player_name,\n",
    "            'Age': age,\n",
    "            'Position': position,\n",
    "            'Club': club\n",
    "        })\n",
    "\n",
    "    return players_info\n",
    "\n",
    "def scrap_national_team_transfertmarkt(team_name, team_id):\n",
    "    headers = {\n",
    "        'User-Agent': 'Mozilla/5.0 (X11; Linux x86_64) AppleWebKit/537.36 (KHTML, like Gecko) Chrome/47.0.2526.106 Safari/537.36'\n",
    "    }\n",
    "\n",
    "    try:\n",
    "        page = f\"https://www.transfermarkt.fr/elfenbeinkuste/kader/verein/{team_id}/saison_id/2023\"\n",
    "        response = requests.get(page, headers=headers)\n",
    "        response.raise_for_status()  # Raise an error for bad status codes\n",
    "\n",
    "        pageSoup = BeautifulSoup(response.content, 'html.parser')\n",
    "\n",
    "        #download_team_picture(pageSoup)\n",
    "        \n",
    "        players_info = extract_players_information(pageSoup)\n",
    "        \n",
    "        return players_info\n",
    "\n",
    "    except requests.RequestException as e:\n",
    "        return f\"Request error: {e}\"\n",
    "    except ValueError as e:\n",
    "        return f\"Data parsing error: {e}\""
   ]
  },
  {
   "cell_type": "code",
   "execution_count": 18,
   "metadata": {},
   "outputs": [],
   "source": [
    "# Initialize an empty list to store all player data\n",
    "all_players_data = []\n",
    "\n",
    "# Loop over each team in the dictionary\n",
    "for team_name, team_id in transfertmarkt_teams_id.items():\n",
    "    # Scrape player data for each team\n",
    "    team_players = scrap_national_team_transfertmarkt(team_name, team_id)\n",
    "    \n",
    "    # Check if the function returned a list (valid data)\n",
    "    if isinstance(team_players, list):\n",
    "        all_players_data.extend(team_players)\n",
    "    else:\n",
    "        print(f\"Error while processing team {team_name}: {team_players}\")\n",
    "\n",
    "    break\n",
    "\n",
    "# Create a DataFrame from the aggregated data\n",
    "#df = pd.DataFrame(all_players_data, columns=['ShirtNumber', 'PlayerID', 'PlayerName','Position', 'Age', 'Club'])"
   ]
  },
  {
   "cell_type": "code",
   "execution_count": 19,
   "metadata": {},
   "outputs": [
    {
     "data": {
      "text/html": [
       "<div>\n",
       "<style scoped>\n",
       "    .dataframe tbody tr th:only-of-type {\n",
       "        vertical-align: middle;\n",
       "    }\n",
       "\n",
       "    .dataframe tbody tr th {\n",
       "        vertical-align: top;\n",
       "    }\n",
       "\n",
       "    .dataframe thead th {\n",
       "        text-align: right;\n",
       "    }\n",
       "</style>\n",
       "<table border=\"1\" class=\"dataframe\">\n",
       "  <thead>\n",
       "    <tr style=\"text-align: right;\">\n",
       "      <th></th>\n",
       "      <th>ShirtNumber</th>\n",
       "      <th>PlayerID</th>\n",
       "      <th>PlayerName</th>\n",
       "      <th>Position</th>\n",
       "      <th>Age</th>\n",
       "      <th>Club</th>\n",
       "    </tr>\n",
       "  </thead>\n",
       "  <tbody>\n",
       "    <tr>\n",
       "      <th>0</th>\n",
       "      <td>16</td>\n",
       "      <td>371816</td>\n",
       "      <td>Dimitry Bertaud</td>\n",
       "      <td>Gardien de but</td>\n",
       "      <td>Dimitry Bertaud</td>\n",
       "      <td>Montpellier Hérault SC</td>\n",
       "    </tr>\n",
       "  </tbody>\n",
       "</table>\n",
       "</div>"
      ],
      "text/plain": [
       "  ShirtNumber PlayerID       PlayerName        Position              Age  \\\n",
       "0          16   371816  Dimitry Bertaud  Gardien de but  Dimitry Bertaud   \n",
       "\n",
       "                     Club  \n",
       "0  Montpellier Hérault SC  "
      ]
     },
     "execution_count": 19,
     "metadata": {},
     "output_type": "execute_result"
    }
   ],
   "source": [
    "pd.DataFrame(all_players_data, columns=['ShirtNumber', 'PlayerID', 'PlayerName','Position', 'Age', 'Club'])"
   ]
  },
  {
   "cell_type": "code",
   "execution_count": 38,
   "metadata": {},
   "outputs": [
    {
     "data": {
      "text/plain": [
       "\"\\n# Group by 'Nationality' and count the number of players in each group\\nteam_player_counts = df.groupby('Nationality')['PlayerId'].count()\\n\\n# Convert the Series back to a DataFrame for better formatting, if desired\\nteam_player_counts_df = team_player_counts.reset_index(name='NumberOfPlayers')\\n\\n# Display the resulting DataFrame\\nprint(team_player_counts_df)\\n\""
      ]
     },
     "execution_count": 38,
     "metadata": {},
     "output_type": "execute_result"
    }
   ],
   "source": [
    "\"\"\"\n",
    "# Group by 'Nationality' and count the number of players in each group\n",
    "team_player_counts = df.groupby('Nationality')['PlayerId'].count()\n",
    "\n",
    "# Convert the Series back to a DataFrame for better formatting, if desired\n",
    "team_player_counts_df = team_player_counts.reset_index(name='NumberOfPlayers')\n",
    "\n",
    "# Display the resulting DataFrame\n",
    "print(team_player_counts_df)\n",
    "\"\"\""
   ]
  },
  {
   "cell_type": "code",
   "execution_count": null,
   "metadata": {},
   "outputs": [],
   "source": []
  },
  {
   "cell_type": "code",
   "execution_count": null,
   "metadata": {},
   "outputs": [],
   "source": []
  }
 ],
 "metadata": {
  "kernelspec": {
   "display_name": ".venv",
   "language": "python",
   "name": "python3"
  },
  "language_info": {
   "codemirror_mode": {
    "name": "ipython",
    "version": 3
   },
   "file_extension": ".py",
   "mimetype": "text/x-python",
   "name": "python",
   "nbconvert_exporter": "python",
   "pygments_lexer": "ipython3",
   "version": "3.10.10"
  }
 },
 "nbformat": 4,
 "nbformat_minor": 2
}
