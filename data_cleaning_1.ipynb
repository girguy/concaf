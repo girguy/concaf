{
 "cells": [
  {
   "cell_type": "code",
   "execution_count": 795,
   "metadata": {},
   "outputs": [],
   "source": [
    "import pandas as pd\n",
    "import requests\n",
    "import numpy as np\n",
    "from urllib.parse import quote"
   ]
  },
  {
   "cell_type": "code",
   "execution_count": 796,
   "metadata": {},
   "outputs": [],
   "source": [
    "# The goal here is to create the Player Table\n",
    "# Columns: PlayerID, PlayerName, TeamID, LeagueID, Position, MarketValue, Nationality, Age,\n",
    "#          InternationalCaps, shirtNumber, jersey_name"
   ]
  },
  {
   "cell_type": "markdown",
   "metadata": {},
   "source": [
    "## Source of data : afcon-2023-final-squads-list.csv\n",
    "#### Data that need to be extracted : PlayerName, Nationality, ShirtNumber, JerseyName"
   ]
  },
  {
   "cell_type": "code",
   "execution_count": 797,
   "metadata": {},
   "outputs": [
    {
     "data": {
      "text/html": [
       "<div>\n",
       "<style scoped>\n",
       "    .dataframe tbody tr th:only-of-type {\n",
       "        vertical-align: middle;\n",
       "    }\n",
       "\n",
       "    .dataframe tbody tr th {\n",
       "        vertical-align: top;\n",
       "    }\n",
       "\n",
       "    .dataframe thead th {\n",
       "        text-align: right;\n",
       "    }\n",
       "</style>\n",
       "<table border=\"1\" class=\"dataframe\">\n",
       "  <thead>\n",
       "    <tr style=\"text-align: right;\">\n",
       "      <th></th>\n",
       "      <th>ShirtNumber</th>\n",
       "      <th>PlayerName</th>\n",
       "      <th>JerseyName</th>\n",
       "      <th>Nationality</th>\n",
       "      <th>PlayerId</th>\n",
       "    </tr>\n",
       "  </thead>\n",
       "  <tbody>\n",
       "    <tr>\n",
       "      <th>0</th>\n",
       "      <td>6</td>\n",
       "      <td>Aaron Tshibola</td>\n",
       "      <td>Tshibola</td>\n",
       "      <td>Congo</td>\n",
       "      <td>0</td>\n",
       "    </tr>\n",
       "    <tr>\n",
       "      <th>1</th>\n",
       "      <td>24</td>\n",
       "      <td>Abdallah Dipo Sima</td>\n",
       "      <td>Sima</td>\n",
       "      <td>Senegal</td>\n",
       "      <td>1</td>\n",
       "    </tr>\n",
       "    <tr>\n",
       "      <th>2</th>\n",
       "      <td>17</td>\n",
       "      <td>Abdallahi Mahmoud</td>\n",
       "      <td>M. Abdallahi</td>\n",
       "      <td>Mauritania</td>\n",
       "      <td>2</td>\n",
       "    </tr>\n",
       "    <tr>\n",
       "      <th>3</th>\n",
       "      <td>18</td>\n",
       "      <td>Abdelkabir Abqar</td>\n",
       "      <td>Abqar</td>\n",
       "      <td>Maroc</td>\n",
       "      <td>3</td>\n",
       "    </tr>\n",
       "    <tr>\n",
       "      <th>4</th>\n",
       "      <td>16</td>\n",
       "      <td>Abdessamad Ezzalzouli</td>\n",
       "      <td>Ezzalzouli</td>\n",
       "      <td>Maroc</td>\n",
       "      <td>4</td>\n",
       "    </tr>\n",
       "    <tr>\n",
       "      <th>...</th>\n",
       "      <td>...</td>\n",
       "      <td>...</td>\n",
       "      <td>...</td>\n",
       "      <td>...</td>\n",
       "      <td>...</td>\n",
       "    </tr>\n",
       "    <tr>\n",
       "      <th>614</th>\n",
       "      <td>2</td>\n",
       "      <td>Zephaniah Phiri</td>\n",
       "      <td>Phiri</td>\n",
       "      <td>Zambia</td>\n",
       "      <td>614</td>\n",
       "    </tr>\n",
       "    <tr>\n",
       "      <th>615</th>\n",
       "      <td>26</td>\n",
       "      <td>Zidane Agustini Banjaqui</td>\n",
       "      <td>Zidane Banjaqui</td>\n",
       "      <td>Guinea-Bissau</td>\n",
       "      <td>615</td>\n",
       "    </tr>\n",
       "    <tr>\n",
       "      <th>616</th>\n",
       "      <td>24</td>\n",
       "      <td>Zineddine Belaid</td>\n",
       "      <td>Belaid</td>\n",
       "      <td>Algeria</td>\n",
       "      <td>616</td>\n",
       "    </tr>\n",
       "    <tr>\n",
       "      <th>617</th>\n",
       "      <td>9</td>\n",
       "      <td>Zinho Gano</td>\n",
       "      <td>Zinho Gano</td>\n",
       "      <td>Guinea-Bissau</td>\n",
       "      <td>617</td>\n",
       "    </tr>\n",
       "    <tr>\n",
       "      <th>618</th>\n",
       "      <td>15</td>\n",
       "      <td>Zito Luvumbo</td>\n",
       "      <td>Luvumbo</td>\n",
       "      <td>Angola</td>\n",
       "      <td>618</td>\n",
       "    </tr>\n",
       "  </tbody>\n",
       "</table>\n",
       "<p>619 rows × 5 columns</p>\n",
       "</div>"
      ],
      "text/plain": [
       "     ShirtNumber                PlayerName       JerseyName    Nationality  \\\n",
       "0              6            Aaron Tshibola         Tshibola          Congo   \n",
       "1             24        Abdallah Dipo Sima             Sima        Senegal   \n",
       "2             17         Abdallahi Mahmoud     M. Abdallahi     Mauritania   \n",
       "3             18          Abdelkabir Abqar            Abqar          Maroc   \n",
       "4             16     Abdessamad Ezzalzouli       Ezzalzouli          Maroc   \n",
       "..           ...                       ...              ...            ...   \n",
       "614            2           Zephaniah Phiri            Phiri         Zambia   \n",
       "615           26  Zidane Agustini Banjaqui  Zidane Banjaqui  Guinea-Bissau   \n",
       "616           24          Zineddine Belaid           Belaid        Algeria   \n",
       "617            9                Zinho Gano       Zinho Gano  Guinea-Bissau   \n",
       "618           15              Zito Luvumbo          Luvumbo         Angola   \n",
       "\n",
       "     PlayerId  \n",
       "0           0  \n",
       "1           1  \n",
       "2           2  \n",
       "3           3  \n",
       "4           4  \n",
       "..        ...  \n",
       "614       614  \n",
       "615       615  \n",
       "616       616  \n",
       "617       617  \n",
       "618       618  \n",
       "\n",
       "[619 rows x 5 columns]"
      ]
     },
     "execution_count": 797,
     "metadata": {},
     "output_type": "execute_result"
    }
   ],
   "source": [
    "# Read data\n",
    "squad_list_df = pd.read_csv(\"C:/Users/guygi/OneDrive/Bureau/concaf_analytics/datasets/afcon-2023-final-squads-list.csv\", encoding='ISO-8859-1')\n",
    "\n",
    "# change column name\n",
    "squad_list_df = squad_list_df.rename(columns={'team': 'Nationality'})\n",
    "squad_list_df = squad_list_df.rename(columns={'shirt_no.': 'ShirtNumber'})\n",
    "squad_list_df = squad_list_df.rename(columns={'name': 'PlayerName'})\n",
    "squad_list_df = squad_list_df.rename(columns={'jersey_name': 'JerseyName'})\n",
    "\n",
    "# Cleaning 'name' and 'jersey_name' columns\n",
    "for col in ['PlayerName', 'JerseyName']:\n",
    "    squad_list_df[col] = squad_list_df[col].replace('\\n', ' ', regex=True).str.strip().str.title()\n",
    "\n",
    "# Deleting 'club_country' column\n",
    "squad_list_df.drop(['position', 'birthdate'], axis=1, inplace=True)  # Uncomment when 'club_country' is in the DataFrame\n",
    "\n",
    "# Function to remove additional spaces between words in a string\n",
    "def remove_additional_spaces(text):\n",
    "    return ' '.join(text.split())\n",
    "\n",
    "# Applying this function to relevant columns\n",
    "for col in ['PlayerName', 'JerseyName']:\n",
    "    squad_list_df[col] = squad_list_df[col].apply(remove_additional_spaces)\n",
    "\n",
    "squad_list_df['PlayerId'] = np.arange(0, len(squad_list_df))\n",
    "\n",
    "squad_list_df"
   ]
  },
  {
   "cell_type": "markdown",
   "metadata": {},
   "source": [
    "## Source of data : API market place\n",
    "#### Data that needs to be extracted : PlayerName (for joint), Position, MarketValue, Club, Age"
   ]
  },
  {
   "cell_type": "code",
   "execution_count": 798,
   "metadata": {},
   "outputs": [],
   "source": [
    "# Function to get player data\n",
    "def get_player_data(player_name):\n",
    "    formatted_name = quote(player_name)  # Encoding the player name for URL\n",
    "    url = f\"https://transfermarkt-api.vercel.app/players/search/{formatted_name}?page_number=1\"\n",
    "    response = requests.get(url)\n",
    "    if response.status_code == 200:\n",
    "        return response.json()\n",
    "    else:\n",
    "        print(f\"Failed to retrieve data for {player_name}. Status code: {response.status_code}\")\n",
    "        return None\n",
    "\n",
    "# Function to get player data\n",
    "def get_player_data_with_id(player_name, player_id):\n",
    "    formatted_name = quote(player_name)  # Encoding the player name for URL\n",
    "    url = f\"https://transfermarkt-api.vercel.app/players/{player_id}/profile\"\n",
    "    response = requests.get(url)\n",
    "    if response.status_code == 200:\n",
    "        return response.json()\n",
    "    else:\n",
    "        print(f\"Failed to retrieve data for {player_name}. Status code: {response.status_code}\")\n",
    "        return None\n",
    "\n",
    "\n",
    "def extract_player_data(data, player_id, player_nationality):\n",
    "    results = data.get('results', None)\n",
    "    \n",
    "    if results:\n",
    "\n",
    "        if len(results) > 1:\n",
    "            results = data.get('results', None)\n",
    "            for i in range(len(results)):\n",
    "                nationalities = results[i].get('nationalities', None)\n",
    "                if player_nationality in nationalities:\n",
    "                    break\n",
    "            results = results[i]\n",
    "        else:\n",
    "            results = results[0]\n",
    "\n",
    "        output = { # extract results of the request response\n",
    "            'PlayerId': player_id,\n",
    "            'TransfertMarketId': results.get('id', None),\n",
    "            'TransfertMarketPlayerName': results.get('name', None),\n",
    "            'Position': results.get('position', None),\n",
    "            'ClubName': results['club'].get('name', None) if player_info.get('club') else None,\n",
    "            'Age': results.get('age', None),\n",
    "            'MarketValue': results.get('marketValue', None)\n",
    "            }  # Assuming each response is a list of data\n",
    "    else:\n",
    "        output = { # No result -> the name is probably wrong\n",
    "            'PlayerId': player_id,\n",
    "            'TransfertMarketId': None,\n",
    "            'TransfertMarketPlayerName': player_name,\n",
    "            'Position': None,\n",
    "            'ClubName': None,\n",
    "            'Age': None,\n",
    "            'MarketValue': None\n",
    "            }\n",
    "    \n",
    "    return output"
   ]
  },
  {
   "cell_type": "code",
   "execution_count": 799,
   "metadata": {},
   "outputs": [],
   "source": [
    "def loop_request_transfert_market_api(squad_list_df, initial_df):\n",
    "    # Collecting data for each player\n",
    "    all_players_data = []\n",
    "    players_not_found = []\n",
    "    for i in range(squad_list_df.shape[0]):\n",
    "        player_name = squad_list_df.iloc[i]['PlayerName']\n",
    "        jersey_name = squad_list_df.iloc[i]['JerseyName']\n",
    "        player_id = squad_list_df.iloc[i]['PlayerId']\n",
    "        player_nationality = squad_list_df.iloc[i]['Nationality']\n",
    "\n",
    "        data = get_player_data(player_name)\n",
    "        if data:\n",
    "            extracted_results = extract_player_data(data, player_id, player_nationality)\n",
    "            if not extracted_results.get('TransfertMarketId', None):\n",
    "                # the player name was not found\n",
    "                print(f\"No result found for player : {player_name}\")\n",
    "            else: # we have the data with the player name\n",
    "                all_players_data.append(extracted_results)\n",
    "        else: # error 500\n",
    "            players_not_found.append({'PlayerName': player_name, 'PlayerId': player_id, 'JerseyName': jersey_name, 'Nationality': player_nationality})\n",
    "    \n",
    "    output_df = pd.concat([initial_df, pd.DataFrame(all_players_data)])\n",
    "            \n",
    "    return output_df, pd.DataFrame(players_not_found)"
   ]
  },
  {
   "cell_type": "code",
   "execution_count": 800,
   "metadata": {},
   "outputs": [
    {
     "name": "stdout",
     "output_type": "stream",
     "text": [
      "Failed to retrieve data for Amar Sharaf Eldin. Status code: 504\n",
      "Failed to retrieve data for Edgar Miguel Ie. Status code: 504\n",
      "Failed to retrieve data for El-Hadji Ba. Status code: 504\n",
      "Failed to retrieve data for Stephane Aziz Ki. Status code: 504\n"
     ]
    }
   ],
   "source": [
    "all_players_data_df, players_not_found_df = loop_request_transfert_market_api(squad_list_df, pd.DataFrame())"
   ]
  },
  {
   "cell_type": "code",
   "execution_count": 802,
   "metadata": {},
   "outputs": [
    {
     "name": "stdout",
     "output_type": "stream",
     "text": [
      "619\n",
      "615\n",
      "4\n"
     ]
    }
   ],
   "source": [
    "print(squad_list_df.shape[0])\n",
    "print(all_players_data_df.shape[0])\n",
    "print(players_not_found_df.shape[0])"
   ]
  },
  {
   "cell_type": "code",
   "execution_count": 803,
   "metadata": {},
   "outputs": [],
   "source": [
    "all_players_data_df, players_not_found_df = loop_request_transfert_market_api(players_not_found_df, all_players_data_df)"
   ]
  },
  {
   "cell_type": "code",
   "execution_count": 804,
   "metadata": {},
   "outputs": [
    {
     "name": "stdout",
     "output_type": "stream",
     "text": [
      "619\n",
      "619\n",
      "0\n"
     ]
    }
   ],
   "source": [
    "print(squad_list_df.shape[0])\n",
    "print(all_players_data_df.shape[0])\n",
    "print(players_not_found_df.shape[0])"
   ]
  },
  {
   "cell_type": "code",
   "execution_count": 805,
   "metadata": {},
   "outputs": [],
   "source": [
    "# Function to convert market value string to integer\n",
    "def convert_market_value(value):\n",
    "    if pd.isna(value):\n",
    "        return None\n",
    "    value = value.replace('€', '').lower()\n",
    "    if 'k' in value:\n",
    "        return int(float(value.replace('k', '')) * 1000)\n",
    "    elif 'm' in value:\n",
    "        return int(float(value.replace('m', '')) * 1000000)\n",
    "    elif '-' in value:\n",
    "        return 0\n",
    "    return int(value)"
   ]
  },
  {
   "cell_type": "code",
   "execution_count": 863,
   "metadata": {},
   "outputs": [],
   "source": [
    "players_df = squad_list_df.merge(all_players_data_df, on='PlayerId', how='left')\n",
    "# Applying the conversion function to the 'MarketValue' column\n",
    "players_df['MarketValue'] = players_df['MarketValue'].apply(convert_market_value)\n",
    "\n",
    "club_players_df = pd.DataFrame(players_df['ClubName'].unique(), columns=['ClubName'])\n",
    "club_players_df['ClubId'] = np.arange(0, len(club_players_df))"
   ]
  },
  {
   "cell_type": "code",
   "execution_count": 864,
   "metadata": {},
   "outputs": [],
   "source": [
    "club_df = pd.read_csv(\"C:/Users/guygi/OneDrive/Bureau/concaf_analytics/datasets/Club.csv\", encoding='ISO-8859-1')\n",
    "\n",
    "club_final_df = club_players_df.merge(club_df, on='ClubName', how='left')\n",
    "club_final_df.sort_values(by=['BestClub'], inplace=True, ascending=False)\n",
    "\n",
    "# Fill NaN values in specific columns with desired values\n",
    "club_final_df['TopLeague'] = club_final_df['TopLeague'].fillna(False)\n",
    "club_final_df['BestClub'] = club_final_df['BestClub'].fillna(False)\n",
    "club_final_df['Country'] = club_final_df['Country'].fillna('No')\n",
    "\n",
    "players_df = players_df.merge(club_final_df, on='ClubName', how='left')\n",
    "\n",
    "players_df.drop(['PlayerId', 'ClubName', 'Country', 'BestClub', 'TopLeague', 'JerseyName', 'TransfertMarketPlayerName'], axis=1, inplace=True)\n",
    "players_df = players_df.rename(columns={'TransfertMarketId': 'PlayerId'})"
   ]
  },
  {
   "cell_type": "code",
   "execution_count": 869,
   "metadata": {},
   "outputs": [],
   "source": [
    "players_df.to_csv(\"C:/Users/guygi/OneDrive/Bureau/concaf_analytics/datasets/clean/Player.csv\", encoding='utf-8-sig', index=False)\n",
    "club_final_df.to_csv(\"C:/Users/guygi/OneDrive/Bureau/concaf_analytics/datasets/clean/Club.csv\", encoding='utf-8-sig', index=False)"
   ]
  }
 ],
 "metadata": {
  "kernelspec": {
   "display_name": ".venv",
   "language": "python",
   "name": "python3"
  },
  "language_info": {
   "codemirror_mode": {
    "name": "ipython",
    "version": 3
   },
   "file_extension": ".py",
   "mimetype": "text/x-python",
   "name": "python",
   "nbconvert_exporter": "python",
   "pygments_lexer": "ipython3",
   "version": "3.10.10"
  }
 },
 "nbformat": 4,
 "nbformat_minor": 2
}
